{
 "cells": [
  {
   "cell_type": "code",
   "execution_count": 1,
   "id": "754d7aef",
   "metadata": {},
   "outputs": [
    {
     "name": "stdout",
     "output_type": "stream",
     "text": [
      "Shortened URL: http://urdomain.com/zEPWr3\n",
      "Expanded URL: https://www.exmple.com/very/long/url\n"
     ]
    }
   ],
   "source": [
    "import string\n",
    "import random\n",
    "\n",
    "class URLShortener:\n",
    "    def __init__(self):\n",
    "        self.short_to_long = {}\n",
    "        self.long_to_short = {}\n",
    "        self.characters = string.ascii_letters + string.digits\n",
    "        self.base_url = \"http://urdomain.com/\"\n",
    "\n",
    "    def shorten_url(self, long_url):\n",
    "        if long_url in self.long_to_short:\n",
    "            return self.base_url + self.long_to_short[long_url]\n",
    "\n",
    "        short_code = self.generate_short_code()\n",
    "        short_url = self.base_url + short_code\n",
    "\n",
    "        self.short_to_long[short_code] = long_url\n",
    "        self.long_to_short[long_url] = short_code\n",
    "\n",
    "        return short_url\n",
    "\n",
    "    def generate_short_code(self):\n",
    "        short_code = ''.join(random.choice(self.characters) for _ in range(6))\n",
    "        while short_code in self.short_to_long:\n",
    "            short_code = ''.join(random.choice(self.characters) for _ in range(6))\n",
    "        return short_code\n",
    "\n",
    "    def expand_url(self, short_url):\n",
    "        short_code = short_url.split('/')[-1]\n",
    "        if short_code in self.short_to_long:\n",
    "            return self.short_to_long[short_code]\n",
    "        else:\n",
    "            return None\n",
    "\n",
    "# Example usage\n",
    "url_shortener = URLShortener()\n",
    "\n",
    "# Shorten a URL\n",
    "long_url = \"https://www.exmple.com/very/long/url\"\n",
    "short_url = url_shortener.shorten_url(long_url)\n",
    "print(\"Shortened URL:\", short_url)\n",
    "\n",
    "# Expand a shortened URL\n",
    "expanded_url = url_shortener.expand_url(short_url)\n",
    "print(\"Expanded URL:\", expanded_url)\n"
   ]
  },
  {
   "cell_type": "code",
   "execution_count": null,
   "id": "e7082911",
   "metadata": {},
   "outputs": [],
   "source": []
  },
  {
   "cell_type": "code",
   "execution_count": null,
   "id": "3df195df",
   "metadata": {},
   "outputs": [],
   "source": []
  }
 ],
 "metadata": {
  "kernelspec": {
   "display_name": "Python 3 (ipykernel)",
   "language": "python",
   "name": "python3"
  },
  "language_info": {
   "codemirror_mode": {
    "name": "ipython",
    "version": 3
   },
   "file_extension": ".py",
   "mimetype": "text/x-python",
   "name": "python",
   "nbconvert_exporter": "python",
   "pygments_lexer": "ipython3",
   "version": "3.9.13"
  }
 },
 "nbformat": 4,
 "nbformat_minor": 5
}
